{
 "cells": [
  {
   "cell_type": "code",
   "execution_count": null,
   "id": "e5a7142f-9336-466e-8f4c-cfa7a07709c0",
   "metadata": {},
   "outputs": [],
   "source": [
    "\"\"\"Q.1\n",
    "The Probability Density Function (PDF) is a fundamental concept in probability and statistics that describes the likelihood of a continuous random variable taking on a particular value within a certain interval.\n",
    "In simpler terms, the PDF provides information about the distribution of probabilities across the possible outcomes of a continuous random variable.\n",
    "The PDF is an essential concept in continuous probability distributions, such as the normal distribution (Gaussian distribution), exponential distribution, beta distribution, and many others. It allows statisticians and researchers to analyze and understand the behavior of continuous random variables, including their expected values, variances, percentiles, and more.\n",
    "Mathematically, the PDF can be used to calculate probabilities, expected values, and other statistical properties of a continuous random variable. It helps provide insights into the likelihood of observing specific values within a continuous data range, which is especially useful in fields such as physics, engineering, finance, and data science."
   ]
  },
  {
   "cell_type": "code",
   "execution_count": null,
   "id": "f04f0475-5792-4c0f-825e-1abe23710239",
   "metadata": {},
   "outputs": [],
   "source": [
    "\"\"\"Q.2\n",
    "There are several types of probability distributions, each describing the way in which probabilities are distributed across the possible outcomes of a random variable. These distributions can be categorized into two main groups: discrete probability distributions and continuous probability distributions.\n",
    "\n",
    "Discrete Probability Distributions:\n",
    "Discrete distributions are used for random variables that can only take on specific, distinct values. Each value has a corresponding probability associated with it.\n",
    "\n",
    "1.Bernoulli Distribution: Describes a random variable with only two possible outcomes, typically labeled as 0 and 1 (e.g., success/failure).\n",
    "2.Binomial Distribution: Represents the number of successes in a fixed number of independent Bernoulli trials.\n",
    "3.Poisson Distribution: Models the number of events occurring in a fixed interval of time or space, given a certain average rate of occurrence.\n",
    "\n",
    "Continuous Probability Distributions:\n",
    "Continuous distributions are used for random variables that can take on any value within a certain range. Probabilities are associated with intervals rather than specific values.\n",
    "\n",
    "1.Normal (Gaussian) Distribution: One of the most common distributions, often representing naturally occurring phenomena. It has a bell-shaped curve and is fully characterized by its mean and standard deviation.\n",
    "2.Exponential Distribution: Models the time between events in a Poisson process, where events occur at a constant average rate.\n",
    "3.Uniform Distribution: Assigns equal probability to all values within a specified interval, resulting in a flat, constant PDF.\n",
    "4.Gamma Distribution: Generalizes the exponential distribution and can model various types of continuous positive variables.\n",
    "5.Beta Distribution: Often used to model random variables that have values within a fixed range, such as proportions or probabilities.\n",
    "\n",
    "Other Distributions:\n",
    "There are many other probability distributions that find applications in various fields. Some notable examples include:\n",
    "\n",
    "1.Chi-Squared Distribution: Used in hypothesis testing and confidence interval construction.\n",
    "2.Student's t-Distribution: Frequently used for estimating population parameters when the sample size is small and population variance is unknown.\n",
    "3.F-Distribution: Commonly used in analysis of variance (ANOVA) and other statistical tests.\n",
    "4.Log-Normal Distribution: Describes variables whose logarithms are normally distributed, often used for modeling financial and economic data.\n",
    "\n",
    "These distributions play a crucial role in statistics, probability theory, and various scientific and practical applications."
   ]
  },
  {
   "cell_type": "code",
   "execution_count": 87,
   "id": "326649da-f7d2-4fdf-8b3d-2a70e4c94e0b",
   "metadata": {},
   "outputs": [
    {
     "name": "stdout",
     "output_type": "stream",
     "text": [
      "pdf at point 7 is 0.10033612747431929\n"
     ]
    }
   ],
   "source": [
    "#Q.3\n",
    "from scipy.stats import norm  #importing norm for generating normal distribution\n",
    "import numpy as np\n",
    "\n",
    "data=[1,2,3,4,5,2,7,8,9,5]\n",
    "mean=np.mean(data)  #calculate mean of dataset\n",
    "std=np.std(data)    #calulate std of dataset\n",
    "pdf=norm.pdf(7,loc=mean,scale=std) # calculate probability density function with mean and std at point 7\n",
    "print(\"pdf at point 7 is\", pdf)    #printing the pdf value"
   ]
  },
  {
   "cell_type": "code",
   "execution_count": null,
   "id": "499c5a36-6451-408a-9a46-f2e64631ba6c",
   "metadata": {},
   "outputs": [],
   "source": [
    "\"\"\"Q.4\n",
    "The binomial distribution is a discrete probability distribution that models the number of successes in a fixed number of independent Bernoulli trials (repeated experiments with two possible outcomes: success or failure). Here are some key properties of the binomial distribution:\n",
    "\n",
    "1.Fixed Number of Trials: The binomial distribution considers a fixed number of trials, denoted as n, where each trial is independent of the others.\n",
    "2.Two Possible Outcomes: Each trial has two possible outcomes: success (usually denoted asS) or failure (usually denoted as F).\n",
    "3.Constant Probability: The probability of success remains constant for each trial and is denoted as p, while the probability of failure is 1−p.\n",
    "4.Independence: The trials are assumed to be independent of each other, meaning the outcome of one trial does not affect the outcome of another.\n",
    "5.Discrete Values: The random variable representing the number of successes in n trials takes on discrete values from 0 to n.\n",
    "6.Probability Mass Function: The probability mass function (PMF) of the binomial distribution gives the probability of observing a specific number of successes in n trials.\n",
    "\n",
    "Two examples of events where the binomial distribution can be applied are:\n",
    "1.Coin Flips: Consider flipping a biased coin where the probability of getting heads is 0.6 and the probability of getting tails is 0.4. If you flip the coin 10 times, you can use the binomial distribution to calculate the probabilities of getting various numbers of heads.\n",
    "2.Drug Trials: In a clinical trial to test the effectiveness of a new drug, patients are randomly assigned to either receive the drug or a placebo. The success event could be the patient's condition improving, and the binomial distribution can be used to model the number of patients who show improvement out of a fixed number of patients in the trial.\n",
    "\n",
    "In both of these examples, there are a fixed number of trials (coin flips or drug administration), each trial has two possible outcomes (success or failure), and the probability of success remains constant for each trial."
   ]
  },
  {
   "cell_type": "code",
   "execution_count": 26,
   "id": "13cafba7-9d8b-4c0f-9a70-f933796b83d2",
   "metadata": {
    "tags": []
   },
   "outputs": [
    {
     "data": {
      "text/plain": [
       "(array([627.,   0.,   0.,   0.,   0.,   0.,   0.,   0.,   0., 373.]),\n",
       " array([0. , 0.1, 0.2, 0.3, 0.4, 0.5, 0.6, 0.7, 0.8, 0.9, 1. ]),\n",
       " <BarContainer object of 10 artists>)"
      ]
     },
     "execution_count": 26,
     "metadata": {},
     "output_type": "execute_result"
    },
    {
     "data": {
      "image/png": "[encoded data removed]",
      "text/plain": [
       "<Figure size 640x480 with 1 Axes>"
      ]
     },
     "metadata": {},
     "output_type": "display_data"
    }
   ],
   "source": [
    "#Q.5\n",
    "import matplotlib.pyplot as plt  #importing matplotlib library\n",
    "random_data=np.random.binomial(n=1,p=0.4,size=1000) #generating data using binomial function of size 1000 and success prob 0.4 and no of trials=1\n",
    "plt.hist(random_data,color='green') #plot histogram"
   ]
  },
  {
   "cell_type": "code",
   "execution_count": 69,
   "id": "0431fa92-c72e-4d80-87e9-8219c5b4ae1c",
   "metadata": {
    "tags": []
   },
   "outputs": [
    {
     "name": "stdout",
     "output_type": "stream",
     "text": [
      "0.9319063652781516\n"
     ]
    }
   ],
   "source": [
    "#Q.6\n",
    "from scipy.stats import poisson #importing poisson to get poisson distribution\n",
    "cdf=poisson.cdf(8,mu=5) #finding cumulative distribution function using poisson dist with  mean=5 at point 8\n",
    "print(cdf) #printing cumulative distribution function"
   ]
  },
  {
   "cell_type": "code",
   "execution_count": null,
   "id": "cdf80fbd-9b79-4dd3-ba3c-1e7b0759a4fb",
   "metadata": {},
   "outputs": [],
   "source": [
    "\"\"\"Q.7\n",
    "BASIS FOR COMPARISON                                        BINOMIAL DISTRIBUTION                                                                                   POISSON DISTRIBUTION\n",
    "\n",
    "Meaning                           Binomial distribution is one in which the probability of repeated number of trials are studied.         Poisson Distribution gives the count of independent events occur randomly with a given period of time.\n",
    "Nature                            Biparametric                                                                                            Uniparametric\n",
    "Number of trials                  Fixed                                                                                                   Infinite\n",
    "Success                           Constant probability                                                                                    Infinitesimal chance of success\n",
    "Outcomes                          Only two possible outcomes, i.e. success or failure.                                                    Unlimited number of possible outcomes.\n",
    "Mean and Variance                 Mean > Variance                                                                                         Mean = Variance\n",
    "Example                           Coin tossing experiment.                                                                                Printing mistakes/page of a large book."
   ]
  },
  {
   "cell_type": "code",
   "execution_count": 85,
   "id": "ef20b6b9-4609-4dfa-bb34-88b2867291df",
   "metadata": {
    "tags": []
   },
   "outputs": [
    {
     "name": "stdout",
     "output_type": "stream",
     "text": [
      "5.023\n",
      "5.112470999999999\n"
     ]
    }
   ],
   "source": [
    "#Q.8\n",
    "from scipy.stats import poisson  #importing poisson\n",
    "random_data1=np.random.poisson(lam=5,size=1000) #generating data of size 1000,mean=5 using poisson dist\n",
    "mean=np.mean(random_data1) #calculate mean\n",
    "var=np.var(random_data1)   #calculate variance\n",
    "print(mean) #print mean               \n",
    "print(var)  #printing "
   ]
  },
  {
   "cell_type": "code",
   "execution_count": null,
   "id": "ff7a97bd-44ee-46cd-ae53-fbfa4d394bf1",
   "metadata": {},
   "outputs": [],
   "source": [
    "\"\"\"Q.9\n",
    "The mean of the binomial distribution is  equal to no of trials*success prob for each trial ie n*p, and the variance is equal to mean*failure prob for each trial ie np*q,where q=(1-p)\n",
    "In binomial distribution, the variance depends on both the number of trials n and the probability of success p.\n",
    "The mean of Poisson distribution is equal to expected no of events occuring at every time interval*time interval ie lambda*time interval ie lambda*t, and the variance is equal to lambda*t.\n",
    "In poisson distribution,the mean and variance are equal, which is a unique property of this distribution. This indicates that as λ increases, both the mean and variance increase, leading to a wider spread of the distribution"
   ]
  },
  {
   "cell_type": "code",
   "execution_count": null,
   "id": "e5eb0d6f-9925-4192-b837-4245d9373bc0",
   "metadata": {},
   "outputs": [],
   "source": [
    "\"\"\"Q.10\n",
    "In a normal distribution (also known as a Gaussian distribution), the least frequent data points appear in the tails of the distribution in either direction, farthest away from the mean(central peak). This is a characteristic of the symmetric bell-shaped curve of the normal distribution."
   ]
  }
 ],
 "metadata": {
  "kernelspec": {
   "display_name": "Python 3 (ipykernel)",
   "language": "python",
   "name": "python3"
  },
  "language_info": {
   "codemirror_mode": {
    "name": "ipython",
    "version": 3
   },
   "file_extension": ".py",
   "mimetype": "text/x-python",
   "name": "python",
   "nbconvert_exporter": "python",
   "pygments_lexer": "ipython3",
   "version": "3.11.3"
  }
 },
 "nbformat": 4,
 "nbformat_minor": 5
}
